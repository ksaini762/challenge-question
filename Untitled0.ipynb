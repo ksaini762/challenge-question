{
  "nbformat": 4,
  "nbformat_minor": 0,
  "metadata": {
    "colab": {
      "provenance": [],
      "authorship_tag": "ABX9TyP010ky20wq80XdwLUumJJD",
      "include_colab_link": true
    },
    "kernelspec": {
      "name": "python3",
      "display_name": "Python 3"
    },
    "language_info": {
      "name": "python"
    }
  },
  "cells": [
    {
      "cell_type": "markdown",
      "metadata": {
        "id": "view-in-github",
        "colab_type": "text"
      },
      "source": [
        "<a href=\"https://colab.research.google.com/github/ksaini762/challenge-question/blob/main/Untitled0.ipynb\" target=\"_parent\"><img src=\"https://colab.research.google.com/assets/colab-badge.svg\" alt=\"Open In Colab\"/></a>"
      ]
    },
    {
      "cell_type": "code",
      "execution_count": 3,
      "metadata": {
        "colab": {
          "base_uri": "https://localhost:8080/"
        },
        "id": "S7PZIn-YtKE8",
        "outputId": "a88e363a-23e9-474b-a939-5ca1e968aaea"
      },
      "outputs": [
        {
          "output_type": "stream",
          "name": "stdout",
          "text": [
            "['ram,shyam', '1', 'arun', '3']\n",
            "['1', '3', 'arun', 'ram,shyam']\n"
          ]
        }
      ],
      "source": [
        "l=[\"ram,\" \"shyam\",1,\"arun\",3]\n",
        "l=[str(i) for i in l]\n",
        "print(l)\n",
        "l.sort()\n",
        "print(l)"
      ]
    },
    {
      "cell_type": "code",
      "source": [
        "l=[\"ram,\" \"shyam\",1,\"arun\",3]\n",
        "l=[str(i) for i in l]\n",
        "l1=[]\n",
        "for i in l:\n",
        "  try:\n",
        "    l1.append(int(i))\n",
        "  except:\n",
        "      l1.append(i)\n",
        "\n",
        "print(l1)"
      ],
      "metadata": {
        "colab": {
          "base_uri": "https://localhost:8080/"
        },
        "id": "7KHcNA06umYu",
        "outputId": "e39e3b57-cda0-45ca-e34b-e3e17bc8ba64"
      },
      "execution_count": 9,
      "outputs": [
        {
          "output_type": "stream",
          "name": "stdout",
          "text": [
            "['ram,shyam', 1, 'arun', 3]\n"
          ]
        }
      ]
    }
  ]
}